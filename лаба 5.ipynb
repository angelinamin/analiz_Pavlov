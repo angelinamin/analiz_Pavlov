{
 "cells": [
  {
   "cell_type": "markdown",
   "id": "75ba224b",
   "metadata": {
    "toc": true
   },
   "source": [
    "<h1>Table of Contents<span class=\"tocSkip\"></span></h1>\n",
    "<div class=\"toc\"><ul class=\"toc-item\"></ul></div>"
   ]
  },
  {
   "cell_type": "markdown",
   "id": "edbef882",
   "metadata": {},
   "source": [
    "<p style=\"font-size:125%; color:#119988; background-color:#EEE\">Задание 1</p>\n",
    "\n",
    "Создайте словарь *food* продуктов питания, ключами которого являются наименования, а значениями цены. Исходные данные для словаря:\n",
    "```\n",
    "titles=('apples,grape,bananas,watermelons,tomatoes'.split(','))\n",
    "prices=(20,25,15,11,15)\n",
    "```"
   ]
  },
  {
   "cell_type": "code",
   "execution_count": 5,
   "id": "7befff06",
   "metadata": {},
   "outputs": [
    {
     "name": "stdout",
     "output_type": "stream",
     "text": [
      "{'apples': 20, 'grape': 25, 'bananas': 15, 'watermelons': 11, 'tomatoes': 15}\n"
     ]
    }
   ],
   "source": [
    "titles = 'apples,grape,bananas,watermelons,tomatoes'.split(',')\n",
    "prices = (20, 25, 15, 11, 15)\n",
    "\n",
    "food = {}  \n",
    "\n",
    "for i in range(len(titles)):   \n",
    "    food[titles[i]] = prices[i]  \n",
    "\n",
    "print(food)\n"
   ]
  },
  {
   "cell_type": "markdown",
   "id": "815e7957",
   "metadata": {},
   "source": [
    "<p style=\"font-size:125%; color:#119988; background-color:#EEE\">Задание 2</p>\n",
    "\n",
    "Удалите из словаря *food* арбузы (watermelons) и добавьте дыни (melons) по той же цене."
   ]
  },
  {
   "cell_type": "code",
   "execution_count": 23,
   "id": "50964e18",
   "metadata": {},
   "outputs": [
    {
     "name": "stdout",
     "output_type": "stream",
     "text": [
      "Исходный словарь food:\n",
      "{'apples': 20, 'grape': 25, 'bananas': 15, 'watermelons': 11, 'tomatoes': 15}\n",
      "Обновленный словарь food:\n",
      "{'apples': 20, 'grape': 25, 'bananas': 15, 'tomatoes': 15, 'melons': 11}\n"
     ]
    }
   ],
   "source": [
    "\n",
    "titles = 'apples,grape,bananas,watermelons,tomatoes'.split(',')\n",
    "prices = (20, 25, 15, 11, 15)\n",
    "\n",
    "\n",
    "food = {}\n",
    "for i in range(len(titles)):\n",
    "    food[titles[i]] = prices[i]\n",
    "\n",
    "print(\"Исходный словарь food:\")\n",
    "print(food)\n",
    "\n",
    "if 'watermelons' in food:\n",
    "    del food['watermelons']\n",
    "    food['melons'] = prices[titles.index('watermelons')]\n",
    "\n",
    "print(\"Обновленный словарь food:\")\n",
    "print(food)\n"
   ]
  },
  {
   "cell_type": "markdown",
   "id": "09da5372",
   "metadata": {},
   "source": [
    "<p style=\"font-size:125%; color:#119988; background-color:#EEE\">Задание 3</p>\n",
    "\n",
    "Все цены снижены на 15%. Обновите словарь продуктов."
   ]
  },
  {
   "cell_type": "code",
   "execution_count": 30,
   "id": "b88d99a1",
   "metadata": {},
   "outputs": [
    {
     "name": "stdout",
     "output_type": "stream",
     "text": [
      "Исходный словарь food:\n",
      "{'apples': 20, 'grape': 25, 'bananas': 15, 'watermelons': 11, 'tomatoes': 15}\n",
      "Обновленный словарь food (цены снижены на 15%):\n",
      "{'apples': 17.0, 'grape': 21.25, 'bananas': 12.75, 'watermelons': 9.35, 'tomatoes': 12.75}\n"
     ]
    }
   ],
   "source": [
    "titles = 'apples,grape,bananas,watermelons,tomatoes'.split(',')\n",
    "prices = (20, 25, 15, 11, 15)\n",
    "\n",
    "food = {}\n",
    "for i in range(len(titles)):\n",
    "    food[titles[i]] = prices[i]\n",
    "\n",
    "print(\"Исходный словарь food:\")\n",
    "print(food)\n",
    "\n",
    "# Снижаем все цены на 15%\n",
    "for key in food:\n",
    "  \n",
    "    food[key] = round(food[key] * 0.85, 2)  # Умножаем на 0.85 т.к (100% - 15%) \n",
    "\n",
    "print(\"Обновленный словарь food (цены снижены на 15%):\")\n",
    "print(food)\n"
   ]
  },
  {
   "cell_type": "markdown",
   "id": "ea04b336",
   "metadata": {},
   "source": [
    "<p style=\"font-size:125%; color:#119988; background-color:#EEE\">Задание 4</p>\n",
    "\n",
    "Поменяйте местами цены и названия, пусть ключами словаря станут цены, а значениями - названия. Изменилось ли при этом количество элементов словаря? Если да, то объясните, почему."
   ]
  },
  {
   "cell_type": "code",
   "execution_count": 28,
   "id": "968cf531",
   "metadata": {},
   "outputs": [
    {
     "name": "stdout",
     "output_type": "stream",
     "text": [
      "Исходный словарь food:\n",
      "{'apples': 20, 'grape': 25, 'bananas': 15, 'watermelons': 11, 'tomatoes': 15}\n",
      "Словарь с поменяными местами ключами и значениями: {food_flipped}\n",
      "{20: 'apples', 25: 'grape', 15: 'tomatoes', 11: 'watermelons'}\n"
     ]
    }
   ],
   "source": [
    "titles = 'apples,grape,bananas,watermelons,tomatoes'.split(',')\n",
    "prices = (20, 25, 15, 11, 15)\n",
    "\n",
    "food = {}\n",
    "for i in range(len(titles)):\n",
    "    food[titles[i]] = prices[i]\n",
    "\n",
    "print(\"Исходный словарь food:\")\n",
    "print(food)\n",
    "\n",
    "# Поменяем местами ключи и значения\n",
    "food_flipped = {tsena: name for name, tsena in food.items()}\n",
    "\n",
    "print(\"Словарь с поменяными местами ключами и значениями: \")\n",
    "print(food_flipped)\n"
   ]
  },
  {
   "cell_type": "markdown",
   "id": "ef49adb3",
   "metadata": {},
   "source": [
    "<p style=\"font-size:125%; color:#119988; background-color:#EEE\">Задание 5</p>\n",
    "\n",
    "Напишите функцию, возвращающую максимальную степень некоторого натурального числа $k$ (например $k=2$), меньшую данного натурального числа $n$. Пусть $k$ и $n$ будут параметрами функции."
   ]
  },
  {
   "cell_type": "code",
   "execution_count": 31,
   "id": "a56f047a",
   "metadata": {},
   "outputs": [
    {
     "name": "stdout",
     "output_type": "stream",
     "text": [
      "Введите натуральное число k: 5\n",
      "Введите натуральное число n: 6\n",
      "Максимальная степень 5, меньшая чем 6, равна 1\n"
     ]
    }
   ],
   "source": [
    "def max_power(k, n):\n",
    "   \n",
    "    power = 0\n",
    "    while k ** power < n:\n",
    "        power += 1\n",
    "    return power - 1\n",
    "\n",
    "k_value = int(input(\"Введите натуральное число k: \"))\n",
    "n_value = int(input(\"Введите натуральное число n: \"))\n",
    "\n",
    "result = max_power(k_value, n_value)\n",
    "print(f\"Максимальная степень {k_value}, меньшая чем {n_value}, равна {result}\")\n"
   ]
  },
  {
   "cell_type": "markdown",
   "id": "dafc63f5",
   "metadata": {},
   "source": [
    "<p style=\"font-size:125%; color:#119988; background-color:#EEE\">Задание 6</p>\n",
    "\n",
    "Создайте функцию, возвращающую ряд Фибоначчи до определенного натурального числа $n$."
   ]
  },
  {
   "cell_type": "code",
   "execution_count": 9,
   "id": "de7f401f",
   "metadata": {},
   "outputs": [
    {
     "name": "stdout",
     "output_type": "stream",
     "text": [
      "Введите натуральное число n: 4\n",
      "Ряд Фибоначчи до 4: [0, 1, 1, 2, 3]\n"
     ]
    }
   ],
   "source": [
    "def fibonacci_series(n):\n",
    "    \n",
    "    #Ряд Фибоначчи — это числовая последовательность,\n",
    "    #в которой каждое число является суммой двух предыдущих чисел, начиная с 0 и 1.\n",
    "    #Таким образом, ряд Фибоначчи начинается: 0, 1, 1, 2, 3, 5, 8, 13, 21, и так далее.\n",
    "    #F(0)=0\n",
    "    #F(1)=1\n",
    "    #F(n)=F(n−1)+F(n−2) для n>1\n",
    "\n",
    "    fib_series = [0,1] \n",
    "\n",
    "    while fib_series[-1] + fib_series[-2] <= n:\n",
    "        next_term = fib_series[-1] + fib_series[-2] \n",
    "        fib_series.append(next_term)  \n",
    "\n",
    "    return fib_series \n",
    "\n",
    "\n",
    "n = int(input(\"Введите натуральное число n: \"))\n",
    "\n",
    "result_series = fibonacci_series(n)\n",
    "\n",
    "print(f\"Ряд Фибоначчи до {n}: {result_series}\")\n"
   ]
  },
  {
   "cell_type": "markdown",
   "id": "119e660a",
   "metadata": {},
   "source": [
    "<p style=\"font-size:125%; color:#119988; background-color:#EEE\">Задание 7</p>\n",
    "\n",
    "Создайте рекурсивную функцию, возвращающую ряд Фибоначчи до определенного натурального числа $n$."
   ]
  },
  {
   "cell_type": "code",
   "execution_count": 10,
   "id": "31838c27",
   "metadata": {},
   "outputs": [
    {
     "name": "stdout",
     "output_type": "stream",
     "text": [
      "Введите натуральное число n: 3\n",
      "Рекурсивный ряд Фибоначчи до 3: [0, 1, 1, 2, 3]\n"
     ]
    }
   ],
   "source": [
    "def fibonacci_recursive(n, fib_series=[0, 1]):\n",
    "    if fib_series[-1] + fib_series[-2] <= n:\n",
    "        fib_series.append(fib_series[-1] + fib_series[-2])\n",
    "        fibonacci_recursive(n, fib_series)\n",
    "    return fib_series\n",
    "\n",
    "n = int(input(\"Введите натуральное число n: \"))\n",
    "result_recursive = fibonacci_recursive(n)\n",
    "print(f\"Рекурсивный ряд Фибоначчи до {n}: {result_recursive}\")"
   ]
  },
  {
   "cell_type": "markdown",
   "id": "ec8400ea",
   "metadata": {},
   "source": [
    "<p style=\"font-size:125%; color:#119988; background-color:#EEE\">Задание 8</p>\n",
    "\n",
    "Создайте функцию, которая проверяет, является ли число членом ряда Фибоначчи."
   ]
  },
  {
   "cell_type": "code",
   "execution_count": 16,
   "id": "a8715c73",
   "metadata": {},
   "outputs": [
    {
     "name": "stdout",
     "output_type": "stream",
     "text": [
      "Введите число для проверки: 6\n",
      "6 не является членом ряда Фибоначчи.\n"
     ]
    }
   ],
   "source": [
    "# 8 итеративный  метод\n",
    "def finobacci(number):\n",
    "    a, b = 0, 1\n",
    "    while b < number:      \n",
    "     a, b = b, a + b  \n",
    "    return b == number\n",
    "\n",
    "num_value = int(input(\"Введите число для проверки: \"))\n",
    "result = finobacci(num_value)\n",
    "print(f\"{num_value} {'является' if result else 'не является'} членом ряда Фибоначчи.\")\n",
    "\n",
    "\n",
    "\n",
    "\n",
    "\n",
    "\n"
   ]
  },
  {
   "cell_type": "markdown",
   "id": "eed2994e",
   "metadata": {},
   "source": [
    "<p style=\"font-size:125%; color:#119988; background-color:#EEE\">Задание 9</p>\n",
    "\n",
    "Студентка Александра родилась 11 июня 2003 года в 12 часов дня. Рассчитать время в минутах с момента рождения."
   ]
  },
  {
   "cell_type": "code",
   "execution_count": 76,
   "id": "be8e2ac9",
   "metadata": {},
   "outputs": [
    {
     "name": "stdout",
     "output_type": "stream",
     "text": [
      "Время с момента рождения Александры в минутах: 10369209 минут\n"
     ]
    }
   ],
   "source": [
    "# 9\n",
    "from datetime import datetime\n",
    "\n",
    "birth_date = datetime(2003, 6, 11, 12, 0) \n",
    "\n",
    "current_datetime = datetime.now()\n",
    "\n",
    "time_difference = current_datetime - birth_date # РАЗНИЦА ВО ВРЕМЕНИ \n",
    "\n",
    "\n",
    "time_in_minutes = time_difference.total_seconds() / 60 # ПОСЧИТАТЬ ВРЕМЯ В МИНУТАХ \n",
    "\n",
    "print(f\"Время с момента рождения Александры в минутах: {int(time_in_minutes)} минут\")\n",
    "\n"
   ]
  },
  {
   "cell_type": "code",
   "execution_count": null,
   "id": "644420f6",
   "metadata": {},
   "outputs": [],
   "source": []
  }
 ],
 "metadata": {
  "kernelspec": {
   "display_name": "Python 3 (ipykernel)",
   "language": "python",
   "name": "python3"
  },
  "language_info": {
   "codemirror_mode": {
    "name": "ipython",
    "version": 3
   },
   "file_extension": ".py",
   "mimetype": "text/x-python",
   "name": "python",
   "nbconvert_exporter": "python",
   "pygments_lexer": "ipython3",
   "version": "3.11.4"
  },
  "toc": {
   "base_numbering": 1,
   "nav_menu": {},
   "number_sections": true,
   "sideBar": true,
   "skip_h1_title": false,
   "title_cell": "Table of Contents",
   "title_sidebar": "Contents",
   "toc_cell": true,
   "toc_position": {},
   "toc_section_display": true,
   "toc_window_display": false
  },
  "varInspector": {
   "cols": {
    "lenName": 16,
    "lenType": 16,
    "lenVar": 40
   },
   "kernels_config": {
    "python": {
     "delete_cmd_postfix": "",
     "delete_cmd_prefix": "del ",
     "library": "var_list.py",
     "varRefreshCmd": "print(var_dic_list())"
    },
    "r": {
     "delete_cmd_postfix": ") ",
     "delete_cmd_prefix": "rm(",
     "library": "var_list.r",
     "varRefreshCmd": "cat(var_dic_list()) "
    }
   },
   "types_to_exclude": [
    "module",
    "function",
    "builtin_function_or_method",
    "instance",
    "_Feature"
   ],
   "window_display": false
  }
 },
 "nbformat": 4,
 "nbformat_minor": 5
}
